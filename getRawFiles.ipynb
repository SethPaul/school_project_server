{
 "cells": [
  {
   "cell_type": "code",
   "execution_count": 1,
   "metadata": {
    "collapsed": false
   },
   "outputs": [],
   "source": [
    "import requests\n",
    "from bs4 import BeautifulSoup\n",
    "import re\n",
    "import urllib \n",
    "import zipfile\n",
    "import os\n",
    "import sys"
   ]
  },
  {
   "cell_type": "code",
   "execution_count": 2,
   "metadata": {
    "collapsed": false
   },
   "outputs": [
    {
     "name": "stdout",
     "output_type": "stream",
     "text": [
      "data/zip/ag131a_supp_txt saved\n",
      "Data/zip/ag121a_supp_txt saved\n",
      "Data/zip/ag111a_txt saved\n",
      "Data/zip/ag102a_txt saved\n",
      "data/zip/ag092a_txt saved\n",
      "data/zip/ag081a_txt saved\n",
      "data/zip/ag071b_txt saved\n",
      "data/zip/ag061c_dat saved\n",
      "data/zip/ag051a_dat saved\n",
      "data/zip/ag041c_dat saved\n",
      "data/zip/ag031b_dat saved\n",
      "data/zip/ag021a_dat saved\n",
      "data/zip/ag011a_dat saved\n",
      "data/zip/ag001a_dat saved\n",
      "data/zip/ag991b_dat saved\n",
      "data/zip/ag981c_dat saved\n",
      "data/zip/pau97data saved\n",
      "data/zip/pau96data saved\n",
      "data/zip/pau95data saved\n",
      "data/zip/pau94datr saved\n",
      "data/zip/pau93data saved\n",
      "Unexpected error: <type 'exceptions.NotImplementedError'>\n",
      "data/zip/pau92data  not saved\n",
      "Unexpected error: <type 'exceptions.NotImplementedError'>\n",
      "data/zip/pau91data  not saved\n",
      "data/zip/pau90data saved\n",
      "data/zip/pau89data saved\n",
      "data/zip/pau88data saved\n",
      "data/zip/pau87data saved\n",
      "data/zip/pau86data saved\n"
     ]
    }
   ],
   "source": [
    "## Get Survey Files \n",
    "\n",
    "surveysPage = requests.get('http://nces.ed.gov/ccd/pubagency.asp')\n",
    "soup=BeautifulSoup(surveysPage.text, 'html.parser')\n",
    "\n",
    "baseUrl='http://nces.ed.gov/ccd/'\n",
    "def desired_links(href):\n",
    "    return href and re.compile(\"(ag[0-9]{3}[a-z]_(supp_txt|txt|dat).zip)|(pau[0-9]{2}dat[a|r].zip)\").search(href)\n",
    "for link in soup.find_all(href=desired_links):\n",
    "    thisLink=link.get('href')\n",
    "    url=baseUrl+thisLink\n",
    "    urllib.urlretrieve(url, 'tempZipFile')\n",
    "    with zipfile.ZipFile('tempZipFile', \"r\") as z:\n",
    "        out_dir=os.getcwd()+'/surveyData/'\n",
    "        if not os.path.isdir(out_dir):\n",
    "            os.mkdir(out_dir)\n",
    "        try:\n",
    "            z.extractall(out_dir)\n",
    "            print thisLink[:-4]+' saved'\n",
    "        except:\n",
    "            print \"Unexpected error:\", sys.exc_info()[0]\n",
    "            print thisLink[:-4]+'  not saved'\n",
    "\n",
    "            #misses 1992 and 1991 due to type 6 compression limitation in python\n",
    "            # these were extracted and uploaded by hand"
   ]
  },
  {
   "cell_type": "code",
   "execution_count": 3,
   "metadata": {
    "collapsed": false
   },
   "outputs": [
    {
     "name": "stdout",
     "output_type": "stream",
     "text": [
      "data/zip/sdf121a saved\n",
      "data/zip/sdf11_1a_txt saved\n",
      "data/zip/SDF101a_txt saved\n",
      "data/zip/SDF091a_txt saved\n",
      "data/zip/sdf081a_txt saved\n",
      "data/zip/sdf071a.txt saved\n",
      "data/zip/sdf061a.txt saved\n",
      "data/zip/sdf051c.txt saved\n",
      "data/zip/sdf041b.txt saved\n",
      "data/zip/sdf031b.txt saved\n",
      "data/zip/sdf021ctxt saved\n",
      "data/zip/sdf011d.txt saved\n",
      "data/zip/sdf001d.txt saved\n",
      "data/zip/sdf991c.txt saved\n",
      "data/zip/sdf981e.txt saved\n",
      "data/zip/sdf97d1a.txt saved\n",
      "data/zip/sdf96c1b.txt saved\n",
      "data/zip/sdf95c1d.txt saved\n",
      "data/zip/sdf921a.txt saved\n",
      "data/zip/sdf901a.txt saved\n"
     ]
    }
   ],
   "source": [
    "## Get Financial Files\n",
    "page = requests.get('http://nces.ed.gov/ccd/f33agency.asp')\n",
    "soup=BeautifulSoup(page.text, 'html.parser')\n",
    "\n",
    "baseUrl='http://nces.ed.gov/ccd/'\n",
    "def desired_links(href):\n",
    "    return href and re.compile(\"((sdf|SDF)[0-9]{2}.?[0-9][a-z](_|.)?(txt)?.zip)\").search(href)\n",
    "for link in soup.find_all(href=desired_links):\n",
    "    thisLink=link.get('href')\n",
    "    url=baseUrl+thisLink\n",
    "    urllib.urlretrieve(url, 'tempZipFile')\n",
    "    with zipfile.ZipFile('tempZipFile', \"r\") as z:\n",
    "        out_dir=os.getcwd()+'/financeData/'\n",
    "        if not os.path.isdir(out_dir):\n",
    "            os.mkdir(out_dir)\n",
    "        try:\n",
    "            z.extractall(out_dir)\n",
    "            print thisLink[:-4]+' saved'\n",
    "        except:\n",
    "            print \"Unexpected error:\", sys.exc_info()[0]\n",
    "            print thisLink[:-4]+'  not saved' \n",
    "    "
   ]
  },
  {
   "cell_type": "code",
   "execution_count": 4,
   "metadata": {
    "collapsed": false
   },
   "outputs": [
    {
     "name": "stdout",
     "output_type": "stream",
     "text": [
      "data/zip/dr091a_txt saved\n",
      "data/zip/dr08p1a_txt saved\n",
      "data/zip/dr07p1b_txt saved\n",
      "data/zip/dr06p1b_txt saved\n",
      "data/zip/dr05p1b_dat saved\n",
      "data/zip/agdr041a_dat saved\n",
      "data/zip/agdr031a_dat saved\n",
      "data/zip/agdr021a_dat saved\n",
      "data/zip/dr010d_dat saved\n",
      "data/zip/dr001b_dat saved\n",
      "data/zip/drp991b_dat saved\n",
      "data/zip/dr981b_dat saved\n",
      "data/zip/dr971c_dat saved\n"
     ]
    }
   ],
   "source": [
    "##Get Drop and Completion files\n",
    "\n",
    "page = requests.get('http://nces.ed.gov/ccd/drpagency.asp')\n",
    "soup=BeautifulSoup(page.text, 'html.parser')\n",
    "\n",
    "baseUrl='http://nces.ed.gov/ccd/'\n",
    "def desired_links(href):\n",
    "    return href and re.compile(\"(dr+p?[0-9]{2}[a-z]?[0-9][a-z]_(txt|dat).zip)\").search(href)\n",
    "for link in soup.find_all(href=desired_links):\n",
    "    thisLink=link.get('href')\n",
    "    url=baseUrl+thisLink\n",
    "    urllib.urlretrieve(url, 'tempZipFile')\n",
    "    with zipfile.ZipFile('tempZipFile', \"r\") as z:\n",
    "        out_dir=os.getcwd()+'/dropCompData/'\n",
    "        if not os.path.isdir(out_dir):\n",
    "            os.mkdir(out_dir)\n",
    "        try:\n",
    "            z.extractall(out_dir)\n",
    "            print thisLink[:-4]+' saved'\n",
    "        except:\n",
    "            print \"Unexpected error:\", sys.exc_info()[0]\n",
    "            print thisLink[:-4]+'  not saved' "
   ]
  },
  {
   "cell_type": "code",
   "execution_count": 5,
   "metadata": {
    "collapsed": false
   },
   "outputs": [
    {
     "name": "stdout",
     "output_type": "stream",
     "text": [
      "ftp://ftp.census.gov/Econ2001_And_Earlier/CBP_CSV/cbp86co.zip\n",
      "1986countyB saved\n",
      "ftp://ftp.census.gov/Econ2001_And_Earlier/CBP_CSV/cbp87co.zip\n",
      "1987countyB saved\n",
      "ftp://ftp.census.gov/Econ2001_And_Earlier/CBP_CSV/cbp88co.zip\n",
      "1988countyB saved\n",
      "ftp://ftp.census.gov/Econ2001_And_Earlier/CBP_CSV/cbp89co.zip\n",
      "1989countyB saved\n",
      "ftp://ftp.census.gov/Econ2001_And_Earlier/CBP_CSV/cbp90co.zip\n",
      "1990countyB saved\n",
      "ftp://ftp.census.gov/Econ2001_And_Earlier/CBP_CSV/cbp91co.zip\n",
      "1991countyB saved\n",
      "ftp://ftp.census.gov/Econ2001_And_Earlier/CBP_CSV/cbp92co.zip\n",
      "1992countyB saved\n",
      "ftp://ftp.census.gov/Econ2001_And_Earlier/CBP_CSV/cbp93co.zip\n",
      "1993countyB saved\n",
      "ftp://ftp.census.gov/Econ2001_And_Earlier/CBP_CSV/cbp94co.zip\n",
      "1994countyB saved\n",
      "ftp://ftp.census.gov/Econ2001_And_Earlier/CBP_CSV/cbp95co.zip\n",
      "1995countyB saved\n",
      "ftp://ftp.census.gov/Econ2001_And_Earlier/CBP_CSV/cbp96co.zip\n",
      "1996countyB saved\n",
      "ftp://ftp.census.gov/Econ2001_And_Earlier/CBP_CSV/cbp97co.zip\n",
      "1997countyB saved\n",
      "ftp://ftp.census.gov/Econ2001_And_Earlier/CBP_CSV/cbp98co.zip\n",
      "1998countyB saved\n",
      "ftp://ftp.census.gov/Econ2001_And_Earlier/CBP_CSV/cbp99co.zip\n",
      "1999countyB saved\n",
      "ftp://ftp.census.gov/Econ2001_And_Earlier/CBP_CSV/cbp00co.zip\n",
      "2000countyB saved\n",
      "ftp://ftp.census.gov/Econ2001_And_Earlier/CBP_CSV/cbp01co.zip\n",
      "2001countyB saved\n",
      "ftp://ftp.census.gov/econ2002/CBP_CSV/cbp02co.zip\n",
      "2002countyB saved\n",
      "ftp://ftp.census.gov/econ2003/CBP_CSV/cbp03co.zip\n",
      "2003countyB saved\n",
      "ftp://ftp.census.gov/econ2004/CBP_CSV/cbp04co.zip\n",
      "2004countyB saved\n",
      "ftp://ftp.census.gov/econ2005/CBP_CSV/cbp05co.zip\n",
      "2005countyB saved\n",
      "ftp://ftp.census.gov/econ2006/CBP_CSV/cbp06co.zip\n",
      "2006countyB saved\n",
      "ftp://ftp.census.gov/econ2007/CBP_CSV/cbp07co.zip\n",
      "2007countyB saved\n",
      "ftp://ftp.census.gov/econ2008/CBP_CSV/cbp08co.zip\n",
      "2008countyB saved\n",
      "ftp://ftp.census.gov/econ2009/CBP_CSV/cbp09co.zip\n",
      "2009countyB saved\n",
      "ftp://ftp.census.gov/econ2010/CBP_CSV/cbp10co.zip\n",
      "2010countyB saved\n",
      "ftp://ftp.census.gov/econ2011/CBP_CSV/cbp11co.zip\n",
      "2011countyB saved\n",
      "ftp://ftp.census.gov/econ2012/CBP_CSV/cbp12co.zip\n",
      "2012countyB saved\n",
      "ftp://ftp.census.gov/econ2013/CBP_CSV/cbp13co.zip\n",
      "2013countyB saved\n"
     ]
    }
   ],
   "source": [
    "## Get county industries files\n",
    "years= range(1986, 2014)\n",
    "#ftp://ftp.census.gov/econ2012/CBP_CSV/cbp12co.zip\n",
    "#ftp://ftp.census.gov/Econ2001_And_Earlier/CBP_CSV/cbp96co.zip\n",
    "\n",
    "for year in years:\n",
    "    try:\n",
    "        year_str=str(year)\n",
    "        year_list=list(year_str)\n",
    "        if year>2001:\n",
    "            url= 'ftp://ftp.census.gov/econ' +year_str+'/CBP_CSV/cbp'+ year_list[2] + year_list[3]+'co.zip' \n",
    "        elif year<=2001: \n",
    "            url= 'ftp://ftp.census.gov/Econ2001_And_Earlier/CBP_CSV/cbp'+ year_list[2] + year_list[3]+'co.zip' \n",
    "        print url\n",
    "        fileName=year_str+'countyB.zip'\n",
    "        urllib.urlretrieve(url, 'tempZipFile')\n",
    "        with zipfile.ZipFile('tempZipFile', \"r\") as z:\n",
    "            out_dir=os.getcwd()+'/businessData/'\n",
    "            if not os.path.isdir(out_dir):\n",
    "                os.mkdir(out_dir)\n",
    "            z.extractall(out_dir)\n",
    "        print fileName[:-4]+' saved'\n",
    "        \n",
    "    except:\n",
    "        print \"Unexpected error:\", sys.exc_info()[0]\n",
    "        print fileName[:-4]+' not saved'"
   ]
  },
  {
   "cell_type": "code",
   "execution_count": 6,
   "metadata": {
    "collapsed": false
   },
   "outputs": [
    {
     "name": "stdout",
     "output_type": "stream",
     "text": [
      "2006 saved\n",
      "2005 saved\n"
     ]
    }
   ],
   "source": [
    "##Get teacher salary survey\n",
    "out_dir=os.getcwd()+'/teacherSalaryData/'\n",
    "if not os.path.isdir(out_dir):\n",
    "    os.mkdir(out_dir)\n",
    "\n",
    "url2006='http://nces.ed.gov/ccd/data/zip/Tcs_lea_2006071a_txt.zip'\n",
    "url2005='http://nces.ed.gov/ccd/data/zip/tcs_lea_2005061a_txt.zip'  \n",
    "    \n",
    "urllib.urlretrieve(url2006, 'tempZipFile')\n",
    "with zipfile.ZipFile('tempZipFile', \"r\") as z:\n",
    "    try:\n",
    "        z.extractall(out_dir)\n",
    "        print '2006 saved'\n",
    "    except:\n",
    "        print \"Unexpected error:\", sys.exc_info()[0]\n",
    "        print '2006 not saved' \n",
    "\n",
    "urllib.urlretrieve(url2005, 'tempZipFile')\n",
    "with zipfile.ZipFile('tempZipFile', \"r\") as z:\n",
    "    try:\n",
    "        z.extractall(out_dir)\n",
    "        print '2005 saved'\n",
    "    except:\n",
    "        print \"Unexpected error:\", sys.exc_info()[0]\n",
    "        print '2005 not saved'"
   ]
  },
  {
   "cell_type": "code",
   "execution_count": null,
   "metadata": {
    "collapsed": false
   },
   "outputs": [],
   "source": []
  },
  {
   "cell_type": "code",
   "execution_count": null,
   "metadata": {
    "collapsed": false
   },
   "outputs": [],
   "source": []
  },
  {
   "cell_type": "code",
   "execution_count": null,
   "metadata": {
    "collapsed": true
   },
   "outputs": [],
   "source": []
  },
  {
   "cell_type": "code",
   "execution_count": null,
   "metadata": {
    "collapsed": true
   },
   "outputs": [],
   "source": []
  }
 ],
 "metadata": {
  "kernelspec": {
   "display_name": "Python 2",
   "language": "python",
   "name": "python2"
  },
  "language_info": {
   "codemirror_mode": {
    "name": "ipython",
    "version": 2
   },
   "file_extension": ".py",
   "mimetype": "text/x-python",
   "name": "python",
   "nbconvert_exporter": "python",
   "pygments_lexer": "ipython2",
   "version": "2.7.10"
  }
 },
 "nbformat": 4,
 "nbformat_minor": 0
}
